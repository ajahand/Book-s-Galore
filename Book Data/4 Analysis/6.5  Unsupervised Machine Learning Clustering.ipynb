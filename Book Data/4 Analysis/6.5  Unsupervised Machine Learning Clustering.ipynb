{
 "cells": [
  {
   "cell_type": "markdown",
   "id": "b70a0ae3",
   "metadata": {},
   "source": [
    "## 6.5 Machine Learning Part 2"
   ]
  },
  {
   "cell_type": "markdown",
   "id": "3fe9ec0c",
   "metadata": {},
   "source": [
    "### This script contains the following:\n",
    "\n",
    "#### 1. Importing libraries and data and renaming columns\n",
    "#### 2. The elbow technique\n",
    "#### 3. k-means clustering"
   ]
  },
  {
   "cell_type": "markdown",
   "id": "c67ac6de",
   "metadata": {},
   "source": [
    "### Importing libraries and data and renaming columns"
   ]
  },
  {
   "cell_type": "code",
   "execution_count": 2,
   "id": "d82ddafb",
   "metadata": {},
   "outputs": [],
   "source": [
    "import pandas as pd\n",
    "import numpy as np\n",
    "import seaborn as sns\n",
    "import matplotlib\n",
    "import matplotlib.pyplot as plt\n",
    "import os\n",
    "import sklearn\n",
    "from sklearn.cluster import KMeans \n",
    "import pylab as pl "
   ]
  },
  {
   "cell_type": "code",
   "execution_count": 3,
   "id": "c78703aa",
   "metadata": {},
   "outputs": [],
   "source": [
    "%matplotlib inline"
   ]
  },
  {
   "cell_type": "code",
   "execution_count": 4,
   "id": "cadcd00c",
   "metadata": {},
   "outputs": [],
   "source": [
    "path = r'/Users/ajahanderson/Documents/Book Data'"
   ]
  },
  {
   "cell_type": "code",
   "execution_count": 5,
   "id": "0481d6dd",
   "metadata": {},
   "outputs": [],
   "source": [
    "df = pd.read_csv(os.path.join(path,'2 Data','Prepared Data','book_dataset_cleaned.csv'),index_col = False)"
   ]
  },
  {
   "cell_type": "code",
   "execution_count": 6,
   "id": "4b3900b1",
   "metadata": {},
   "outputs": [],
   "source": [
    "sub = df[['Quantity', 'Item Price', 'Shipping-Price', 'Total', 'Profit %', 'Profit (INR)', 'Cost Price']]\n"
   ]
  },
  {
   "cell_type": "code",
   "execution_count": 7,
   "id": "77f29dd5",
   "metadata": {},
   "outputs": [
    {
     "data": {
      "text/html": [
       "<div>\n",
       "<style scoped>\n",
       "    .dataframe tbody tr th:only-of-type {\n",
       "        vertical-align: middle;\n",
       "    }\n",
       "\n",
       "    .dataframe tbody tr th {\n",
       "        vertical-align: top;\n",
       "    }\n",
       "\n",
       "    .dataframe thead th {\n",
       "        text-align: right;\n",
       "    }\n",
       "</style>\n",
       "<table border=\"1\" class=\"dataframe\">\n",
       "  <thead>\n",
       "    <tr style=\"text-align: right;\">\n",
       "      <th></th>\n",
       "      <th>Quantity</th>\n",
       "      <th>Item Price</th>\n",
       "      <th>Shipping-Price</th>\n",
       "      <th>Total</th>\n",
       "      <th>Profit %</th>\n",
       "      <th>Profit (INR)</th>\n",
       "      <th>Cost Price</th>\n",
       "    </tr>\n",
       "  </thead>\n",
       "  <tbody>\n",
       "    <tr>\n",
       "      <th>0</th>\n",
       "      <td>1</td>\n",
       "      <td>999.0</td>\n",
       "      <td>85.0</td>\n",
       "      <td>1084.0</td>\n",
       "      <td>13</td>\n",
       "      <td>129.87</td>\n",
       "      <td>869.13</td>\n",
       "    </tr>\n",
       "    <tr>\n",
       "      <th>1</th>\n",
       "      <td>1</td>\n",
       "      <td>640.0</td>\n",
       "      <td>85.0</td>\n",
       "      <td>725.0</td>\n",
       "      <td>17</td>\n",
       "      <td>108.80</td>\n",
       "      <td>531.20</td>\n",
       "    </tr>\n",
       "    <tr>\n",
       "      <th>2</th>\n",
       "      <td>1</td>\n",
       "      <td>715.0</td>\n",
       "      <td>85.0</td>\n",
       "      <td>800.0</td>\n",
       "      <td>17</td>\n",
       "      <td>121.55</td>\n",
       "      <td>593.45</td>\n",
       "    </tr>\n",
       "    <tr>\n",
       "      <th>3</th>\n",
       "      <td>1</td>\n",
       "      <td>565.0</td>\n",
       "      <td>85.0</td>\n",
       "      <td>650.0</td>\n",
       "      <td>13</td>\n",
       "      <td>73.45</td>\n",
       "      <td>491.55</td>\n",
       "    </tr>\n",
       "    <tr>\n",
       "      <th>4</th>\n",
       "      <td>1</td>\n",
       "      <td>494.0</td>\n",
       "      <td>85.0</td>\n",
       "      <td>579.0</td>\n",
       "      <td>13</td>\n",
       "      <td>64.22</td>\n",
       "      <td>429.78</td>\n",
       "    </tr>\n",
       "    <tr>\n",
       "      <th>...</th>\n",
       "      <td>...</td>\n",
       "      <td>...</td>\n",
       "      <td>...</td>\n",
       "      <td>...</td>\n",
       "      <td>...</td>\n",
       "      <td>...</td>\n",
       "      <td>...</td>\n",
       "    </tr>\n",
       "    <tr>\n",
       "      <th>3435</th>\n",
       "      <td>1</td>\n",
       "      <td>379.0</td>\n",
       "      <td>89.0</td>\n",
       "      <td>468.0</td>\n",
       "      <td>13</td>\n",
       "      <td>49.27</td>\n",
       "      <td>329.73</td>\n",
       "    </tr>\n",
       "    <tr>\n",
       "      <th>3436</th>\n",
       "      <td>1</td>\n",
       "      <td>655.0</td>\n",
       "      <td>89.0</td>\n",
       "      <td>744.0</td>\n",
       "      <td>17</td>\n",
       "      <td>111.35</td>\n",
       "      <td>543.65</td>\n",
       "    </tr>\n",
       "    <tr>\n",
       "      <th>3437</th>\n",
       "      <td>1</td>\n",
       "      <td>554.0</td>\n",
       "      <td>89.0</td>\n",
       "      <td>643.0</td>\n",
       "      <td>17</td>\n",
       "      <td>94.18</td>\n",
       "      <td>459.82</td>\n",
       "    </tr>\n",
       "    <tr>\n",
       "      <th>3438</th>\n",
       "      <td>1</td>\n",
       "      <td>379.0</td>\n",
       "      <td>89.0</td>\n",
       "      <td>468.0</td>\n",
       "      <td>13</td>\n",
       "      <td>49.27</td>\n",
       "      <td>329.73</td>\n",
       "    </tr>\n",
       "    <tr>\n",
       "      <th>3439</th>\n",
       "      <td>1</td>\n",
       "      <td>683.0</td>\n",
       "      <td>79.0</td>\n",
       "      <td>762.0</td>\n",
       "      <td>13</td>\n",
       "      <td>88.79</td>\n",
       "      <td>594.21</td>\n",
       "    </tr>\n",
       "  </tbody>\n",
       "</table>\n",
       "<p>3440 rows × 7 columns</p>\n",
       "</div>"
      ],
      "text/plain": [
       "      Quantity  Item Price  Shipping-Price   Total  Profit %  Profit (INR)  \\\n",
       "0            1       999.0            85.0  1084.0        13        129.87   \n",
       "1            1       640.0            85.0   725.0        17        108.80   \n",
       "2            1       715.0            85.0   800.0        17        121.55   \n",
       "3            1       565.0            85.0   650.0        13         73.45   \n",
       "4            1       494.0            85.0   579.0        13         64.22   \n",
       "...        ...         ...             ...     ...       ...           ...   \n",
       "3435         1       379.0            89.0   468.0        13         49.27   \n",
       "3436         1       655.0            89.0   744.0        17        111.35   \n",
       "3437         1       554.0            89.0   643.0        17         94.18   \n",
       "3438         1       379.0            89.0   468.0        13         49.27   \n",
       "3439         1       683.0            79.0   762.0        13         88.79   \n",
       "\n",
       "      Cost Price  \n",
       "0         869.13  \n",
       "1         531.20  \n",
       "2         593.45  \n",
       "3         491.55  \n",
       "4         429.78  \n",
       "...          ...  \n",
       "3435      329.73  \n",
       "3436      543.65  \n",
       "3437      459.82  \n",
       "3438      329.73  \n",
       "3439      594.21  \n",
       "\n",
       "[3440 rows x 7 columns]"
      ]
     },
     "execution_count": 7,
     "metadata": {},
     "output_type": "execute_result"
    }
   ],
   "source": [
    "sub"
   ]
  },
  {
   "cell_type": "code",
   "execution_count": 8,
   "id": "e8381f3a",
   "metadata": {},
   "outputs": [],
   "source": [
    "\n",
    "sub = sub.loc[sub.max(axis=1) <= 1600]\n"
   ]
  },
  {
   "cell_type": "code",
   "execution_count": 9,
   "id": "7d2142a5",
   "metadata": {},
   "outputs": [
    {
     "data": {
      "text/html": [
       "<div>\n",
       "<style scoped>\n",
       "    .dataframe tbody tr th:only-of-type {\n",
       "        vertical-align: middle;\n",
       "    }\n",
       "\n",
       "    .dataframe tbody tr th {\n",
       "        vertical-align: top;\n",
       "    }\n",
       "\n",
       "    .dataframe thead th {\n",
       "        text-align: right;\n",
       "    }\n",
       "</style>\n",
       "<table border=\"1\" class=\"dataframe\">\n",
       "  <thead>\n",
       "    <tr style=\"text-align: right;\">\n",
       "      <th></th>\n",
       "      <th>Quantity</th>\n",
       "      <th>Item Price</th>\n",
       "      <th>Shipping-Price</th>\n",
       "      <th>Total</th>\n",
       "      <th>Profit %</th>\n",
       "      <th>Profit (INR)</th>\n",
       "      <th>Cost Price</th>\n",
       "    </tr>\n",
       "  </thead>\n",
       "  <tbody>\n",
       "    <tr>\n",
       "      <th>0</th>\n",
       "      <td>1</td>\n",
       "      <td>999.0</td>\n",
       "      <td>85.0</td>\n",
       "      <td>1084.0</td>\n",
       "      <td>13</td>\n",
       "      <td>129.87</td>\n",
       "      <td>869.13</td>\n",
       "    </tr>\n",
       "    <tr>\n",
       "      <th>1</th>\n",
       "      <td>1</td>\n",
       "      <td>640.0</td>\n",
       "      <td>85.0</td>\n",
       "      <td>725.0</td>\n",
       "      <td>17</td>\n",
       "      <td>108.80</td>\n",
       "      <td>531.20</td>\n",
       "    </tr>\n",
       "    <tr>\n",
       "      <th>2</th>\n",
       "      <td>1</td>\n",
       "      <td>715.0</td>\n",
       "      <td>85.0</td>\n",
       "      <td>800.0</td>\n",
       "      <td>17</td>\n",
       "      <td>121.55</td>\n",
       "      <td>593.45</td>\n",
       "    </tr>\n",
       "    <tr>\n",
       "      <th>3</th>\n",
       "      <td>1</td>\n",
       "      <td>565.0</td>\n",
       "      <td>85.0</td>\n",
       "      <td>650.0</td>\n",
       "      <td>13</td>\n",
       "      <td>73.45</td>\n",
       "      <td>491.55</td>\n",
       "    </tr>\n",
       "    <tr>\n",
       "      <th>4</th>\n",
       "      <td>1</td>\n",
       "      <td>494.0</td>\n",
       "      <td>85.0</td>\n",
       "      <td>579.0</td>\n",
       "      <td>13</td>\n",
       "      <td>64.22</td>\n",
       "      <td>429.78</td>\n",
       "    </tr>\n",
       "    <tr>\n",
       "      <th>...</th>\n",
       "      <td>...</td>\n",
       "      <td>...</td>\n",
       "      <td>...</td>\n",
       "      <td>...</td>\n",
       "      <td>...</td>\n",
       "      <td>...</td>\n",
       "      <td>...</td>\n",
       "    </tr>\n",
       "    <tr>\n",
       "      <th>3435</th>\n",
       "      <td>1</td>\n",
       "      <td>379.0</td>\n",
       "      <td>89.0</td>\n",
       "      <td>468.0</td>\n",
       "      <td>13</td>\n",
       "      <td>49.27</td>\n",
       "      <td>329.73</td>\n",
       "    </tr>\n",
       "    <tr>\n",
       "      <th>3436</th>\n",
       "      <td>1</td>\n",
       "      <td>655.0</td>\n",
       "      <td>89.0</td>\n",
       "      <td>744.0</td>\n",
       "      <td>17</td>\n",
       "      <td>111.35</td>\n",
       "      <td>543.65</td>\n",
       "    </tr>\n",
       "    <tr>\n",
       "      <th>3437</th>\n",
       "      <td>1</td>\n",
       "      <td>554.0</td>\n",
       "      <td>89.0</td>\n",
       "      <td>643.0</td>\n",
       "      <td>17</td>\n",
       "      <td>94.18</td>\n",
       "      <td>459.82</td>\n",
       "    </tr>\n",
       "    <tr>\n",
       "      <th>3438</th>\n",
       "      <td>1</td>\n",
       "      <td>379.0</td>\n",
       "      <td>89.0</td>\n",
       "      <td>468.0</td>\n",
       "      <td>13</td>\n",
       "      <td>49.27</td>\n",
       "      <td>329.73</td>\n",
       "    </tr>\n",
       "    <tr>\n",
       "      <th>3439</th>\n",
       "      <td>1</td>\n",
       "      <td>683.0</td>\n",
       "      <td>79.0</td>\n",
       "      <td>762.0</td>\n",
       "      <td>13</td>\n",
       "      <td>88.79</td>\n",
       "      <td>594.21</td>\n",
       "    </tr>\n",
       "  </tbody>\n",
       "</table>\n",
       "<p>3440 rows × 7 columns</p>\n",
       "</div>"
      ],
      "text/plain": [
       "      Quantity  Item Price  Shipping-Price   Total  Profit %  Profit (INR)  \\\n",
       "0            1       999.0            85.0  1084.0        13        129.87   \n",
       "1            1       640.0            85.0   725.0        17        108.80   \n",
       "2            1       715.0            85.0   800.0        17        121.55   \n",
       "3            1       565.0            85.0   650.0        13         73.45   \n",
       "4            1       494.0            85.0   579.0        13         64.22   \n",
       "...        ...         ...             ...     ...       ...           ...   \n",
       "3435         1       379.0            89.0   468.0        13         49.27   \n",
       "3436         1       655.0            89.0   744.0        17        111.35   \n",
       "3437         1       554.0            89.0   643.0        17         94.18   \n",
       "3438         1       379.0            89.0   468.0        13         49.27   \n",
       "3439         1       683.0            79.0   762.0        13         88.79   \n",
       "\n",
       "      Cost Price  \n",
       "0         869.13  \n",
       "1         531.20  \n",
       "2         593.45  \n",
       "3         491.55  \n",
       "4         429.78  \n",
       "...          ...  \n",
       "3435      329.73  \n",
       "3436      543.65  \n",
       "3437      459.82  \n",
       "3438      329.73  \n",
       "3439      594.21  \n",
       "\n",
       "[3440 rows x 7 columns]"
      ]
     },
     "execution_count": 9,
     "metadata": {},
     "output_type": "execute_result"
    }
   ],
   "source": [
    "sub"
   ]
  },
  {
   "cell_type": "code",
   "execution_count": null,
   "id": "94c92ed3",
   "metadata": {},
   "outputs": [],
   "source": []
  },
  {
   "cell_type": "markdown",
   "id": "fe2e64e0",
   "metadata": {},
   "source": [
    "### 2. The elbow technique"
   ]
  },
  {
   "cell_type": "code",
   "execution_count": 10,
   "id": "7237f4f8",
   "metadata": {},
   "outputs": [],
   "source": [
    "num_cl = range(1, 10) \n",
    "kmeans = [KMeans(n_clusters=i) for i in num_cl]"
   ]
  },
  {
   "cell_type": "code",
   "execution_count": 11,
   "id": "d96277e9",
   "metadata": {},
   "outputs": [
    {
     "name": "stderr",
     "output_type": "stream",
     "text": [
      "/Users/ajahanderson/anaconda3/lib/python3.11/site-packages/sklearn/cluster/_kmeans.py:1412: FutureWarning: The default value of `n_init` will change from 10 to 'auto' in 1.4. Set the value of `n_init` explicitly to suppress the warning\n",
      "  super()._check_params_vs_input(X, default_n_init=10)\n",
      "/Users/ajahanderson/anaconda3/lib/python3.11/site-packages/sklearn/cluster/_kmeans.py:1412: FutureWarning: The default value of `n_init` will change from 10 to 'auto' in 1.4. Set the value of `n_init` explicitly to suppress the warning\n",
      "  super()._check_params_vs_input(X, default_n_init=10)\n",
      "/Users/ajahanderson/anaconda3/lib/python3.11/site-packages/sklearn/cluster/_kmeans.py:1412: FutureWarning: The default value of `n_init` will change from 10 to 'auto' in 1.4. Set the value of `n_init` explicitly to suppress the warning\n",
      "  super()._check_params_vs_input(X, default_n_init=10)\n",
      "/Users/ajahanderson/anaconda3/lib/python3.11/site-packages/sklearn/cluster/_kmeans.py:1412: FutureWarning: The default value of `n_init` will change from 10 to 'auto' in 1.4. Set the value of `n_init` explicitly to suppress the warning\n",
      "  super()._check_params_vs_input(X, default_n_init=10)\n",
      "/Users/ajahanderson/anaconda3/lib/python3.11/site-packages/sklearn/cluster/_kmeans.py:1412: FutureWarning: The default value of `n_init` will change from 10 to 'auto' in 1.4. Set the value of `n_init` explicitly to suppress the warning\n",
      "  super()._check_params_vs_input(X, default_n_init=10)\n",
      "/Users/ajahanderson/anaconda3/lib/python3.11/site-packages/sklearn/cluster/_kmeans.py:1412: FutureWarning: The default value of `n_init` will change from 10 to 'auto' in 1.4. Set the value of `n_init` explicitly to suppress the warning\n",
      "  super()._check_params_vs_input(X, default_n_init=10)\n",
      "/Users/ajahanderson/anaconda3/lib/python3.11/site-packages/sklearn/cluster/_kmeans.py:1412: FutureWarning: The default value of `n_init` will change from 10 to 'auto' in 1.4. Set the value of `n_init` explicitly to suppress the warning\n",
      "  super()._check_params_vs_input(X, default_n_init=10)\n",
      "/Users/ajahanderson/anaconda3/lib/python3.11/site-packages/sklearn/cluster/_kmeans.py:1412: FutureWarning: The default value of `n_init` will change from 10 to 'auto' in 1.4. Set the value of `n_init` explicitly to suppress the warning\n",
      "  super()._check_params_vs_input(X, default_n_init=10)\n",
      "/Users/ajahanderson/anaconda3/lib/python3.11/site-packages/sklearn/cluster/_kmeans.py:1412: FutureWarning: The default value of `n_init` will change from 10 to 'auto' in 1.4. Set the value of `n_init` explicitly to suppress the warning\n",
      "  super()._check_params_vs_input(X, default_n_init=10)\n"
     ]
    },
    {
     "data": {
      "text/plain": [
       "[-694924886.0810248,\n",
       " -184878875.45853585,\n",
       " -93320922.75463106,\n",
       " -45502116.646273784,\n",
       " -33053701.618516255,\n",
       " -25660682.69390338,\n",
       " -19333493.319658928,\n",
       " -15192428.937101465,\n",
       " -12698057.374475036]"
      ]
     },
     "execution_count": 11,
     "metadata": {},
     "output_type": "execute_result"
    }
   ],
   "source": [
    "score = [kmeans[i].fit(sub).score(sub) for i in range(len(kmeans))] \n",
    "\n",
    "score"
   ]
  },
  {
   "cell_type": "code",
   "execution_count": 12,
   "id": "20839150",
   "metadata": {},
   "outputs": [
    {
     "data": {
      "image/png": "[encoded data removed]",
      "text/plain": [
       "<Figure size 640x480 with 1 Axes>"
      ]
     },
     "metadata": {},
     "output_type": "display_data"
    }
   ],
   "source": [
    "# Plot the elbow curve using PyLab.\n",
    "\n",
    "pl.plot(num_cl,score)\n",
    "pl.xlabel('Number of Clusters')\n",
    "pl.ylabel('Score')\n",
    "pl.title('Elbow Curve')\n",
    "pl.show()"
   ]
  },
  {
   "cell_type": "markdown",
   "id": "1d080153",
   "metadata": {},
   "source": [
    "#### I will opt for the number 4. The values exhibit a swift increase from 1 to 4, followed by a stabilization beyond 4. This suggests that the ideal cluster count is 4.\n"
   ]
  },
  {
   "cell_type": "code",
   "execution_count": 13,
   "id": "97070229",
   "metadata": {},
   "outputs": [],
   "source": [
    "# Create the k-means object.\n",
    "\n",
    "kmeans = KMeans(n_clusters = 4) \n"
   ]
  },
  {
   "cell_type": "code",
   "execution_count": 14,
   "id": "6d73fd8b",
   "metadata": {},
   "outputs": [
    {
     "name": "stderr",
     "output_type": "stream",
     "text": [
      "/Users/ajahanderson/anaconda3/lib/python3.11/site-packages/sklearn/cluster/_kmeans.py:1412: FutureWarning: The default value of `n_init` will change from 10 to 'auto' in 1.4. Set the value of `n_init` explicitly to suppress the warning\n",
      "  super()._check_params_vs_input(X, default_n_init=10)\n"
     ]
    },
    {
     "data": {
      "text/html": [
       "<style>#sk-container-id-1 {color: black;}#sk-container-id-1 pre{padding: 0;}#sk-container-id-1 div.sk-toggleable {background-color: white;}#sk-container-id-1 label.sk-toggleable__label {cursor: pointer;display: block;width: 100%;margin-bottom: 0;padding: 0.3em;box-sizing: border-box;text-align: center;}#sk-container-id-1 label.sk-toggleable__label-arrow:before {content: \"▸\";float: left;margin-right: 0.25em;color: #696969;}#sk-container-id-1 label.sk-toggleable__label-arrow:hover:before {color: black;}#sk-container-id-1 div.sk-estimator:hover label.sk-toggleable__label-arrow:before {color: black;}#sk-container-id-1 div.sk-toggleable__content {max-height: 0;max-width: 0;overflow: hidden;text-align: left;background-color: #f0f8ff;}#sk-container-id-1 div.sk-toggleable__content pre {margin: 0.2em;color: black;border-radius: 0.25em;background-color: #f0f8ff;}#sk-container-id-1 input.sk-toggleable__control:checked~div.sk-toggleable__content {max-height: 200px;max-width: 100%;overflow: auto;}#sk-container-id-1 input.sk-toggleable__control:checked~label.sk-toggleable__label-arrow:before {content: \"▾\";}#sk-container-id-1 div.sk-estimator input.sk-toggleable__control:checked~label.sk-toggleable__label {background-color: #d4ebff;}#sk-container-id-1 div.sk-label input.sk-toggleable__control:checked~label.sk-toggleable__label {background-color: #d4ebff;}#sk-container-id-1 input.sk-hidden--visually {border: 0;clip: rect(1px 1px 1px 1px);clip: rect(1px, 1px, 1px, 1px);height: 1px;margin: -1px;overflow: hidden;padding: 0;position: absolute;width: 1px;}#sk-container-id-1 div.sk-estimator {font-family: monospace;background-color: #f0f8ff;border: 1px dotted black;border-radius: 0.25em;box-sizing: border-box;margin-bottom: 0.5em;}#sk-container-id-1 div.sk-estimator:hover {background-color: #d4ebff;}#sk-container-id-1 div.sk-parallel-item::after {content: \"\";width: 100%;border-bottom: 1px solid gray;flex-grow: 1;}#sk-container-id-1 div.sk-label:hover label.sk-toggleable__label {background-color: #d4ebff;}#sk-container-id-1 div.sk-serial::before {content: \"\";position: absolute;border-left: 1px solid gray;box-sizing: border-box;top: 0;bottom: 0;left: 50%;z-index: 0;}#sk-container-id-1 div.sk-serial {display: flex;flex-direction: column;align-items: center;background-color: white;padding-right: 0.2em;padding-left: 0.2em;position: relative;}#sk-container-id-1 div.sk-item {position: relative;z-index: 1;}#sk-container-id-1 div.sk-parallel {display: flex;align-items: stretch;justify-content: center;background-color: white;position: relative;}#sk-container-id-1 div.sk-item::before, #sk-container-id-1 div.sk-parallel-item::before {content: \"\";position: absolute;border-left: 1px solid gray;box-sizing: border-box;top: 0;bottom: 0;left: 50%;z-index: -1;}#sk-container-id-1 div.sk-parallel-item {display: flex;flex-direction: column;z-index: 1;position: relative;background-color: white;}#sk-container-id-1 div.sk-parallel-item:first-child::after {align-self: flex-end;width: 50%;}#sk-container-id-1 div.sk-parallel-item:last-child::after {align-self: flex-start;width: 50%;}#sk-container-id-1 div.sk-parallel-item:only-child::after {width: 0;}#sk-container-id-1 div.sk-dashed-wrapped {border: 1px dashed gray;margin: 0 0.4em 0.5em 0.4em;box-sizing: border-box;padding-bottom: 0.4em;background-color: white;}#sk-container-id-1 div.sk-label label {font-family: monospace;font-weight: bold;display: inline-block;line-height: 1.2em;}#sk-container-id-1 div.sk-label-container {text-align: center;}#sk-container-id-1 div.sk-container {/* jupyter's `normalize.less` sets `[hidden] { display: none; }` but bootstrap.min.css set `[hidden] { display: none !important; }` so we also need the `!important` here to be able to override the default hidden behavior on the sphinx rendered scikit-learn.org. See: https://github.com/scikit-learn/scikit-learn/issues/21755 */display: inline-block !important;position: relative;}#sk-container-id-1 div.sk-text-repr-fallback {display: none;}</style><div id=\"sk-container-id-1\" class=\"sk-top-container\"><div class=\"sk-text-repr-fallback\"><pre>KMeans(n_clusters=4)</pre><b>In a Jupyter environment, please rerun this cell to show the HTML representation or trust the notebook. <br />On GitHub, the HTML representation is unable to render, please try loading this page with nbviewer.org.</b></div><div class=\"sk-container\" hidden><div class=\"sk-item\"><div class=\"sk-estimator sk-toggleable\"><input class=\"sk-toggleable__control sk-hidden--visually\" id=\"sk-estimator-id-1\" type=\"checkbox\" checked><label for=\"sk-estimator-id-1\" class=\"sk-toggleable__label sk-toggleable__label-arrow\">KMeans</label><div class=\"sk-toggleable__content\"><pre>KMeans(n_clusters=4)</pre></div></div></div></div></div>"
      ],
      "text/plain": [
       "KMeans(n_clusters=4)"
      ]
     },
     "execution_count": 14,
     "metadata": {},
     "output_type": "execute_result"
    }
   ],
   "source": [
    "# Fit the k-means object to the data.\n",
    "\n",
    "kmeans.fit(sub)"
   ]
  },
  {
   "cell_type": "code",
   "execution_count": 15,
   "id": "3efa8327",
   "metadata": {},
   "outputs": [
    {
     "name": "stderr",
     "output_type": "stream",
     "text": [
      "/Users/ajahanderson/anaconda3/lib/python3.11/site-packages/sklearn/cluster/_kmeans.py:1412: FutureWarning: The default value of `n_init` will change from 10 to 'auto' in 1.4. Set the value of `n_init` explicitly to suppress the warning\n",
      "  super()._check_params_vs_input(X, default_n_init=10)\n"
     ]
    }
   ],
   "source": [
    "sub['clusters'] = kmeans.fit_predict(sub)"
   ]
  },
  {
   "cell_type": "code",
   "execution_count": 16,
   "id": "8ef50623",
   "metadata": {},
   "outputs": [
    {
     "data": {
      "text/html": [
       "<div>\n",
       "<style scoped>\n",
       "    .dataframe tbody tr th:only-of-type {\n",
       "        vertical-align: middle;\n",
       "    }\n",
       "\n",
       "    .dataframe tbody tr th {\n",
       "        vertical-align: top;\n",
       "    }\n",
       "\n",
       "    .dataframe thead th {\n",
       "        text-align: right;\n",
       "    }\n",
       "</style>\n",
       "<table border=\"1\" class=\"dataframe\">\n",
       "  <thead>\n",
       "    <tr style=\"text-align: right;\">\n",
       "      <th></th>\n",
       "      <th>Quantity</th>\n",
       "      <th>Item Price</th>\n",
       "      <th>Shipping-Price</th>\n",
       "      <th>Total</th>\n",
       "      <th>Profit %</th>\n",
       "      <th>Profit (INR)</th>\n",
       "      <th>Cost Price</th>\n",
       "      <th>clusters</th>\n",
       "    </tr>\n",
       "  </thead>\n",
       "  <tbody>\n",
       "    <tr>\n",
       "      <th>0</th>\n",
       "      <td>1</td>\n",
       "      <td>999.0</td>\n",
       "      <td>85.0</td>\n",
       "      <td>1084.0</td>\n",
       "      <td>13</td>\n",
       "      <td>129.87</td>\n",
       "      <td>869.13</td>\n",
       "      <td>1</td>\n",
       "    </tr>\n",
       "    <tr>\n",
       "      <th>1</th>\n",
       "      <td>1</td>\n",
       "      <td>640.0</td>\n",
       "      <td>85.0</td>\n",
       "      <td>725.0</td>\n",
       "      <td>17</td>\n",
       "      <td>108.80</td>\n",
       "      <td>531.20</td>\n",
       "      <td>3</td>\n",
       "    </tr>\n",
       "    <tr>\n",
       "      <th>2</th>\n",
       "      <td>1</td>\n",
       "      <td>715.0</td>\n",
       "      <td>85.0</td>\n",
       "      <td>800.0</td>\n",
       "      <td>17</td>\n",
       "      <td>121.55</td>\n",
       "      <td>593.45</td>\n",
       "      <td>3</td>\n",
       "    </tr>\n",
       "    <tr>\n",
       "      <th>3</th>\n",
       "      <td>1</td>\n",
       "      <td>565.0</td>\n",
       "      <td>85.0</td>\n",
       "      <td>650.0</td>\n",
       "      <td>13</td>\n",
       "      <td>73.45</td>\n",
       "      <td>491.55</td>\n",
       "      <td>3</td>\n",
       "    </tr>\n",
       "    <tr>\n",
       "      <th>4</th>\n",
       "      <td>1</td>\n",
       "      <td>494.0</td>\n",
       "      <td>85.0</td>\n",
       "      <td>579.0</td>\n",
       "      <td>13</td>\n",
       "      <td>64.22</td>\n",
       "      <td>429.78</td>\n",
       "      <td>0</td>\n",
       "    </tr>\n",
       "  </tbody>\n",
       "</table>\n",
       "</div>"
      ],
      "text/plain": [
       "   Quantity  Item Price  Shipping-Price   Total  Profit %  Profit (INR)  \\\n",
       "0         1       999.0            85.0  1084.0        13        129.87   \n",
       "1         1       640.0            85.0   725.0        17        108.80   \n",
       "2         1       715.0            85.0   800.0        17        121.55   \n",
       "3         1       565.0            85.0   650.0        13         73.45   \n",
       "4         1       494.0            85.0   579.0        13         64.22   \n",
       "\n",
       "   Cost Price  clusters  \n",
       "0      869.13         1  \n",
       "1      531.20         3  \n",
       "2      593.45         3  \n",
       "3      491.55         3  \n",
       "4      429.78         0  "
      ]
     },
     "execution_count": 16,
     "metadata": {},
     "output_type": "execute_result"
    }
   ],
   "source": [
    "sub.head()"
   ]
  },
  {
   "cell_type": "code",
   "execution_count": 17,
   "id": "90fa27d2",
   "metadata": {},
   "outputs": [
    {
     "data": {
      "text/plain": [
       "clusters\n",
       "2    1718\n",
       "0     851\n",
       "3     574\n",
       "1     297\n",
       "Name: count, dtype: int64"
      ]
     },
     "execution_count": 17,
     "metadata": {},
     "output_type": "execute_result"
    }
   ],
   "source": [
    "sub['clusters'].value_counts()"
   ]
  },
  {
   "cell_type": "code",
   "execution_count": 18,
   "id": "a55f7ad5",
   "metadata": {},
   "outputs": [
    {
     "name": "stderr",
     "output_type": "stream",
     "text": [
      "/Users/ajahanderson/anaconda3/lib/python3.11/site-packages/seaborn/_oldcore.py:1498: FutureWarning: is_categorical_dtype is deprecated and will be removed in a future version. Use isinstance(dtype, CategoricalDtype) instead\n",
      "  if pd.api.types.is_categorical_dtype(vector):\n",
      "/Users/ajahanderson/anaconda3/lib/python3.11/site-packages/seaborn/_oldcore.py:1498: FutureWarning: is_categorical_dtype is deprecated and will be removed in a future version. Use isinstance(dtype, CategoricalDtype) instead\n",
      "  if pd.api.types.is_categorical_dtype(vector):\n",
      "/Users/ajahanderson/anaconda3/lib/python3.11/site-packages/seaborn/_oldcore.py:1498: FutureWarning: is_categorical_dtype is deprecated and will be removed in a future version. Use isinstance(dtype, CategoricalDtype) instead\n",
      "  if pd.api.types.is_categorical_dtype(vector):\n"
     ]
    },
    {
     "data": {
      "image/png": "[encoded data removed]",
      "text/plain": [
       "<Figure size 1200x800 with 1 Axes>"
      ]
     },
     "metadata": {},
     "output_type": "display_data"
    }
   ],
   "source": [
    "# Plot the clusters for the \"Profit (INR)\" and \"Cost Price\" variables.\n",
    "\n",
    "plt.figure(figsize=(12,8))\n",
    "ax = sns.scatterplot(x=sub['Profit (INR)'], y=sub['Cost Price'], hue=kmeans.labels_, s=100) \n",
    "\n",
    "ax.grid(False) # This removes the grid from the background.\n",
    "plt.xlabel('Profit (INR)') # Label x-axis.\n",
    "plt.ylabel('Cost Price') # Label y-axis.\n",
    "plt.show()"
   ]
  },
  {
   "cell_type": "code",
   "execution_count": 19,
   "id": "9eca8dbd",
   "metadata": {},
   "outputs": [
    {
     "name": "stderr",
     "output_type": "stream",
     "text": [
      "/Users/ajahanderson/anaconda3/lib/python3.11/site-packages/seaborn/_oldcore.py:1498: FutureWarning: is_categorical_dtype is deprecated and will be removed in a future version. Use isinstance(dtype, CategoricalDtype) instead\n",
      "  if pd.api.types.is_categorical_dtype(vector):\n",
      "/Users/ajahanderson/anaconda3/lib/python3.11/site-packages/seaborn/_oldcore.py:1498: FutureWarning: is_categorical_dtype is deprecated and will be removed in a future version. Use isinstance(dtype, CategoricalDtype) instead\n",
      "  if pd.api.types.is_categorical_dtype(vector):\n",
      "/Users/ajahanderson/anaconda3/lib/python3.11/site-packages/seaborn/_oldcore.py:1498: FutureWarning: is_categorical_dtype is deprecated and will be removed in a future version. Use isinstance(dtype, CategoricalDtype) instead\n",
      "  if pd.api.types.is_categorical_dtype(vector):\n"
     ]
    },
    {
     "data": {
      "image/png": "[encoded data removed]",
      "text/plain": [
       "<Figure size 1200x800 with 1 Axes>"
      ]
     },
     "metadata": {},
     "output_type": "display_data"
    }
   ],
   "source": [
    "# Plot the clusters for the \"Item Price\" and \"Cost Price\" variables.\n",
    "\n",
    "plt.figure(figsize=(12,8))\n",
    "ax = sns.scatterplot(x=sub['Item Price'], y=sub['Cost Price'], hue=kmeans.labels_, s=100) \n",
    "\n",
    "ax.grid(False) # This removes the grid from the background.\n",
    "plt.xlabel('Item Price') # Label x-axis.\n",
    "plt.ylabel('Cost Price') # Label y-axis.\n",
    "plt.show()"
   ]
  },
  {
   "cell_type": "markdown",
   "id": "afac9fe3",
   "metadata": {},
   "source": [
    " Four identifiable clusters were chosen using the elbow technique. The scatterplot illustrates a positive correlation within each cluster, indicating that an increase in cost price is associated with higher profits. Similarly, another cluster exhibits a positive correlation, demonstrating that as item price increases, so does the associated cost price."
   ]
  },
  {
   "cell_type": "code",
   "execution_count": 20,
   "id": "3fce27b7",
   "metadata": {},
   "outputs": [
    {
     "name": "stderr",
     "output_type": "stream",
     "text": [
      "/var/folders/5t/s295bnhn7bvf1407s3py_b8h0000gn/T/ipykernel_39544/502926968.py:2: FutureWarning: Setting an item of incompatible dtype is deprecated and will raise in a future error of pandas. Value 'black' has dtype incompatible with float64, please explicitly cast to a compatible dtype first.\n",
      "  sub.loc[sub['clusters'] == 3, 'cluster'] = 'black'\n"
     ]
    }
   ],
   "source": [
    "#create a column that renames the clusters to colors \n",
    "sub.loc[sub['clusters'] == 3, 'cluster'] = 'black'\n",
    "sub.loc[sub['clusters'] == 2, 'cluster'] = 'dark purple'\n",
    "sub.loc[sub['clusters'] == 1, 'cluster'] = 'purple'\n",
    "sub.loc[sub['clusters'] == 0, 'cluster'] = 'pink'"
   ]
  },
  {
   "cell_type": "code",
   "execution_count": 21,
   "id": "a01bb9fe",
   "metadata": {},
   "outputs": [
    {
     "data": {
      "text/html": [
       "<div>\n",
       "<style scoped>\n",
       "    .dataframe tbody tr th:only-of-type {\n",
       "        vertical-align: middle;\n",
       "    }\n",
       "\n",
       "    .dataframe tbody tr th {\n",
       "        vertical-align: top;\n",
       "    }\n",
       "\n",
       "    .dataframe thead tr th {\n",
       "        text-align: left;\n",
       "    }\n",
       "\n",
       "    .dataframe thead tr:last-of-type th {\n",
       "        text-align: right;\n",
       "    }\n",
       "</style>\n",
       "<table border=\"1\" class=\"dataframe\">\n",
       "  <thead>\n",
       "    <tr>\n",
       "      <th></th>\n",
       "      <th colspan=\"2\" halign=\"left\">Quantity</th>\n",
       "      <th colspan=\"2\" halign=\"left\">Item Price</th>\n",
       "      <th colspan=\"2\" halign=\"left\">Shipping-Price</th>\n",
       "      <th colspan=\"2\" halign=\"left\">Total</th>\n",
       "      <th colspan=\"2\" halign=\"left\">Profit %</th>\n",
       "      <th colspan=\"2\" halign=\"left\">Profit (INR)</th>\n",
       "      <th colspan=\"2\" halign=\"left\">Cost Price</th>\n",
       "    </tr>\n",
       "    <tr>\n",
       "      <th></th>\n",
       "      <th>mean</th>\n",
       "      <th>median</th>\n",
       "      <th>mean</th>\n",
       "      <th>median</th>\n",
       "      <th>mean</th>\n",
       "      <th>median</th>\n",
       "      <th>mean</th>\n",
       "      <th>median</th>\n",
       "      <th>mean</th>\n",
       "      <th>median</th>\n",
       "      <th>mean</th>\n",
       "      <th>median</th>\n",
       "      <th>mean</th>\n",
       "      <th>median</th>\n",
       "    </tr>\n",
       "    <tr>\n",
       "      <th>cluster</th>\n",
       "      <th></th>\n",
       "      <th></th>\n",
       "      <th></th>\n",
       "      <th></th>\n",
       "      <th></th>\n",
       "      <th></th>\n",
       "      <th></th>\n",
       "      <th></th>\n",
       "      <th></th>\n",
       "      <th></th>\n",
       "      <th></th>\n",
       "      <th></th>\n",
       "      <th></th>\n",
       "      <th></th>\n",
       "    </tr>\n",
       "  </thead>\n",
       "  <tbody>\n",
       "    <tr>\n",
       "      <th>black</th>\n",
       "      <td>1.026132</td>\n",
       "      <td>1.0</td>\n",
       "      <td>635.317073</td>\n",
       "      <td>638.5</td>\n",
       "      <td>86.621951</td>\n",
       "      <td>85.0</td>\n",
       "      <td>721.939024</td>\n",
       "      <td>717.5</td>\n",
       "      <td>15.026132</td>\n",
       "      <td>13.0</td>\n",
       "      <td>95.434774</td>\n",
       "      <td>96.00</td>\n",
       "      <td>539.882300</td>\n",
       "      <td>532.44</td>\n",
       "    </tr>\n",
       "    <tr>\n",
       "      <th>dark purple</th>\n",
       "      <td>1.009895</td>\n",
       "      <td>1.0</td>\n",
       "      <td>152.904115</td>\n",
       "      <td>155.0</td>\n",
       "      <td>75.102806</td>\n",
       "      <td>67.0</td>\n",
       "      <td>228.006921</td>\n",
       "      <td>230.0</td>\n",
       "      <td>17.580908</td>\n",
       "      <td>18.0</td>\n",
       "      <td>26.893899</td>\n",
       "      <td>27.90</td>\n",
       "      <td>126.010216</td>\n",
       "      <td>127.10</td>\n",
       "    </tr>\n",
       "    <tr>\n",
       "      <th>pink</th>\n",
       "      <td>1.059929</td>\n",
       "      <td>1.0</td>\n",
       "      <td>373.321998</td>\n",
       "      <td>385.0</td>\n",
       "      <td>73.545358</td>\n",
       "      <td>65.0</td>\n",
       "      <td>446.867356</td>\n",
       "      <td>460.0</td>\n",
       "      <td>16.638073</td>\n",
       "      <td>17.0</td>\n",
       "      <td>61.726890</td>\n",
       "      <td>63.70</td>\n",
       "      <td>311.595107</td>\n",
       "      <td>327.85</td>\n",
       "    </tr>\n",
       "    <tr>\n",
       "      <th>purple</th>\n",
       "      <td>1.188552</td>\n",
       "      <td>1.0</td>\n",
       "      <td>980.345118</td>\n",
       "      <td>959.0</td>\n",
       "      <td>95.801347</td>\n",
       "      <td>85.0</td>\n",
       "      <td>1076.146465</td>\n",
       "      <td>1049.0</td>\n",
       "      <td>14.915825</td>\n",
       "      <td>13.0</td>\n",
       "      <td>146.561633</td>\n",
       "      <td>152.83</td>\n",
       "      <td>833.783485</td>\n",
       "      <td>786.38</td>\n",
       "    </tr>\n",
       "  </tbody>\n",
       "</table>\n",
       "</div>"
      ],
      "text/plain": [
       "             Quantity         Item Price        Shipping-Price         \\\n",
       "                 mean median        mean median           mean median   \n",
       "cluster                                                                 \n",
       "black        1.026132    1.0  635.317073  638.5      86.621951   85.0   \n",
       "dark purple  1.009895    1.0  152.904115  155.0      75.102806   67.0   \n",
       "pink         1.059929    1.0  373.321998  385.0      73.545358   65.0   \n",
       "purple       1.188552    1.0  980.345118  959.0      95.801347   85.0   \n",
       "\n",
       "                   Total           Profit %        Profit (INR)          \\\n",
       "                    mean  median       mean median         mean  median   \n",
       "cluster                                                                   \n",
       "black         721.939024   717.5  15.026132   13.0    95.434774   96.00   \n",
       "dark purple   228.006921   230.0  17.580908   18.0    26.893899   27.90   \n",
       "pink          446.867356   460.0  16.638073   17.0    61.726890   63.70   \n",
       "purple       1076.146465  1049.0  14.915825   13.0   146.561633  152.83   \n",
       "\n",
       "             Cost Price          \n",
       "                   mean  median  \n",
       "cluster                          \n",
       "black        539.882300  532.44  \n",
       "dark purple  126.010216  127.10  \n",
       "pink         311.595107  327.85  \n",
       "purple       833.783485  786.38  "
      ]
     },
     "execution_count": 21,
     "metadata": {},
     "output_type": "execute_result"
    }
   ],
   "source": [
    "sub.groupby('cluster').agg({\n",
    "    'Quantity':['mean','median'],\n",
    "    'Item Price':['mean','median'],\n",
    "    'Shipping-Price':['mean','median'],\n",
    "    'Total':['mean','median'],\n",
    "    'Profit %':['mean','median'], \n",
    "    'Profit (INR)':['mean','median'],\n",
    "    'Cost Price':['mean','median']\n",
    "})"
   ]
  },
  {
   "cell_type": "markdown",
   "id": "953b788a",
   "metadata": {},
   "source": [
    "pink was the lowest on the graph and also produces the lowest quanitity, item price, total, profit, and cost price for the aggregate function"
   ]
  },
  {
   "cell_type": "markdown",
   "id": "2bc436f5",
   "metadata": {},
   "source": [
    "purple results match up with the chart placements "
   ]
  },
  {
   "cell_type": "markdown",
   "id": "8c508ba7",
   "metadata": {},
   "source": [
    "dark purple results match up with the chart placements"
   ]
  },
  {
   "cell_type": "markdown",
   "id": "2cd4823c",
   "metadata": {},
   "source": [
    "Black was the highest on the graph and also produces the highest quanitity, item price, total, profit, and cost price for the aggregate function"
   ]
  },
  {
   "cell_type": "markdown",
   "id": "c07e5d54",
   "metadata": {},
   "source": [
    "### What factors determine the shipping cost, and how do the profit percentage and actual amount correlate? Additionally, why does the pink cluster show the highest profit percentage even though it doesn't have the highest profit? "
   ]
  },
  {
   "cell_type": "code",
   "execution_count": 28,
   "id": "c87a46d9",
   "metadata": {},
   "outputs": [],
   "source": [
    "sub.to_csv(os.path.join(path, '2 Data','Prepared Data', 'clusters.csv'))"
   ]
  },
  {
   "cell_type": "code",
   "execution_count": null,
   "id": "947cc66e",
   "metadata": {},
   "outputs": [],
   "source": []
  }
 ],
 "metadata": {
  "kernelspec": {
   "display_name": "Python 3 (ipykernel)",
   "language": "python",
   "name": "python3"
  },
  "language_info": {
   "codemirror_mode": {
    "name": "ipython",
    "version": 3
   },
   "file_extension": ".py",
   "mimetype": "text/x-python",
   "name": "python",
   "nbconvert_exporter": "python",
   "pygments_lexer": "ipython3",
   "version": "3.11.5"
  }
 },
 "nbformat": 4,
 "nbformat_minor": 5
}
